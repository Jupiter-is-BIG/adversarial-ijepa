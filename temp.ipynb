{
 "cells": [
  {
   "cell_type": "code",
   "execution_count": 1,
   "metadata": {},
   "outputs": [],
   "source": [
    "import torch"
   ]
  },
  {
   "cell_type": "code",
   "execution_count": 5,
   "metadata": {},
   "outputs": [],
   "source": [
    "def apply_masks(x, masks):\n",
    "    \"\"\"\n",
    "    :param x: tensor of shape [B (batch-size), N (num-patches), D (feature-dim)]\n",
    "    :param masks: list of tensors containing indices of patches in [N] to keep\n",
    "    \"\"\"\n",
    "    all_x = []\n",
    "    for m in masks:\n",
    "        mask_keep = m.unsqueeze(-1).repeat(1, 1, x.size(-1))\n",
    "        all_x += [torch.gather(x, dim=1, index=mask_keep)]\n",
    "    return torch.cat(all_x, dim=0)"
   ]
  },
  {
   "cell_type": "code",
   "execution_count": 3,
   "metadata": {},
   "outputs": [],
   "source": [
    "x = torch.tensor([\n",
    "    [\n",
    "        [1,2],\n",
    "        [1,2]\n",
    "    ],\n",
    "    [\n",
    "        [3, 4],\n",
    "        [5, 6]\n",
    "    ]\n",
    "])"
   ]
  },
  {
   "cell_type": "code",
   "execution_count": 4,
   "metadata": {},
   "outputs": [
    {
     "data": {
      "text/plain": [
       "torch.Size([2, 2, 2])"
      ]
     },
     "execution_count": 4,
     "metadata": {},
     "output_type": "execute_result"
    }
   ],
   "source": [
    "x.shape"
   ]
  },
  {
   "cell_type": "code",
   "execution_count": 19,
   "metadata": {},
   "outputs": [
    {
     "name": "stdout",
     "output_type": "stream",
     "text": [
      "tensor([[[0, 0, 0, 0, 0],\n",
      "         [1, 1, 1, 1, 1]]])\n",
      "tensor([[[1, 1, 1, 1, 1],\n",
      "         [1, 1, 1, 1, 1]]])\n"
     ]
    }
   ],
   "source": [
    "masks = torch.tensor([\n",
    "    [0,1],\n",
    "    [1,1]\n",
    "])\n",
    "\n",
    "for m in masks:\n",
    "    print(m.unsqueeze(-1).repeat(1,1,5))\n"
   ]
  },
  {
   "cell_type": "code",
   "execution_count": 6,
   "metadata": {},
   "outputs": [],
   "source": [
    "x = torch.tensor([\n",
    "    [\n",
    "        [1, 1, 1],\n",
    "        [2, 2, 2], \n",
    "        [3, 3, 3], \n",
    "        [4, 4, 4]\n",
    "    ],  # Batch 1 patches\n",
    "    [\n",
    "        [5, 5, 5], \n",
    "        [6, 6, 6], \n",
    "        [7, 7, 7], \n",
    "        [8, 8, 8]\n",
    "    ]   # Batch 2 patches\n",
    "])\n",
    "\n",
    "# masks: list of tensors with indices of patches to keep in each batch\n",
    "masks = [\n",
    "    torch.tensor([\n",
    "        [1,2],\n",
    "        [2,3]\n",
    "    ])\n",
    "]"
   ]
  },
  {
   "cell_type": "code",
   "execution_count": 7,
   "metadata": {},
   "outputs": [
    {
     "data": {
      "text/plain": [
       "tensor([[[2, 2, 2],\n",
       "         [3, 3, 3]],\n",
       "\n",
       "        [[7, 7, 7],\n",
       "         [8, 8, 8]]])"
      ]
     },
     "execution_count": 7,
     "metadata": {},
     "output_type": "execute_result"
    }
   ],
   "source": [
    "apply_masks(x, masks)"
   ]
  },
  {
   "cell_type": "code",
   "execution_count": 38,
   "metadata": {},
   "outputs": [
    {
     "data": {
      "text/plain": [
       "torch.Size([2, 4, 3])"
      ]
     },
     "execution_count": 38,
     "metadata": {},
     "output_type": "execute_result"
    }
   ],
   "source": [
    "x.shape"
   ]
  },
  {
   "cell_type": "code",
   "execution_count": 39,
   "metadata": {},
   "outputs": [
    {
     "data": {
      "text/plain": [
       "tensor([[[1, 1, 1],\n",
       "         [3, 3, 3]],\n",
       "\n",
       "        [[2, 2, 2],\n",
       "         [4, 4, 4]]])"
      ]
     },
     "execution_count": 39,
     "metadata": {},
     "output_type": "execute_result"
    }
   ],
   "source": [
    "apply_masks(x, masks)"
   ]
  },
  {
   "cell_type": "code",
   "execution_count": 27,
   "metadata": {},
   "outputs": [
    {
     "data": {
      "text/plain": [
       "tensor([[[2, 1, 1],\n",
       "         [3, 3, 3]]])"
      ]
     },
     "execution_count": 27,
     "metadata": {},
     "output_type": "execute_result"
    }
   ],
   "source": [
    "torch.gather(x, dim=1, index=torch.tensor([[[1, 0, 0],\n",
    "         [2, 2, 2]]]))"
   ]
  },
  {
   "cell_type": "code",
   "execution_count": 27,
   "metadata": {},
   "outputs": [
    {
     "name": "stdout",
     "output_type": "stream",
     "text": [
      "tensor([[[ 1,  2,  3],\n",
      "         [ 7,  8,  9]],\n",
      "\n",
      "        [[13, 14, 15],\n",
      "         [19, 20, 21]],\n",
      "\n",
      "        [[ 4,  5,  6],\n",
      "         [ 4,  5,  6]],\n",
      "\n",
      "        [[16, 17, 18],\n",
      "         [16, 17, 18]]])\n"
     ]
    },
    {
     "ename": "NameError",
     "evalue": "name 'tensor' is not defined",
     "output_type": "error",
     "traceback": [
      "\u001b[0;31m---------------------------------------------------------------------------\u001b[0m",
      "\u001b[0;31mNameError\u001b[0m                                 Traceback (most recent call last)",
      "Cell \u001b[0;32mIn[27], line 16\u001b[0m\n\u001b[1;32m     14\u001b[0m result \u001b[38;5;241m=\u001b[39m apply_masks(x, masks)\n\u001b[1;32m     15\u001b[0m \u001b[38;5;28mprint\u001b[39m(result)\n\u001b[0;32m---> 16\u001b[0m \u001b[43mtensor\u001b[49m([\n\u001b[1;32m     17\u001b[0m     [[ \u001b[38;5;241m1\u001b[39m,  \u001b[38;5;241m2\u001b[39m,  \u001b[38;5;241m3\u001b[39m],\n\u001b[1;32m     18\u001b[0m          [ \u001b[38;5;241m7\u001b[39m,  \u001b[38;5;241m8\u001b[39m,  \u001b[38;5;241m9\u001b[39m]],\n\u001b[1;32m     19\u001b[0m \n\u001b[1;32m     20\u001b[0m         [[\u001b[38;5;241m13\u001b[39m, \u001b[38;5;241m14\u001b[39m, \u001b[38;5;241m15\u001b[39m],\n\u001b[1;32m     21\u001b[0m          [\u001b[38;5;241m19\u001b[39m, \u001b[38;5;241m20\u001b[39m, \u001b[38;5;241m21\u001b[39m]],\n\u001b[1;32m     22\u001b[0m \n\u001b[1;32m     23\u001b[0m         [[ \u001b[38;5;241m4\u001b[39m,  \u001b[38;5;241m5\u001b[39m,  \u001b[38;5;241m6\u001b[39m],\n\u001b[1;32m     24\u001b[0m          [ \u001b[38;5;241m4\u001b[39m,  \u001b[38;5;241m5\u001b[39m,  \u001b[38;5;241m6\u001b[39m]],\n\u001b[1;32m     25\u001b[0m \n\u001b[1;32m     26\u001b[0m         [[\u001b[38;5;241m16\u001b[39m, \u001b[38;5;241m17\u001b[39m, \u001b[38;5;241m18\u001b[39m],\n\u001b[1;32m     27\u001b[0m          [\u001b[38;5;241m16\u001b[39m, \u001b[38;5;241m17\u001b[39m, \u001b[38;5;241m18\u001b[39m]]\n\u001b[1;32m     28\u001b[0m ])\n",
      "\u001b[0;31mNameError\u001b[0m: name 'tensor' is not defined"
     ]
    }
   ],
   "source": [
    "x = torch.tensor([\n",
    "    [[1, 2, 3], [4, 5, 6], [7, 8, 9], [10, 11, 12]],  # Image 1\n",
    "    [[13, 14, 15], [16, 17, 18], [19, 20, 21], [22, 23, 24]]  # Image 2\n",
    "])  # Shape: [2 (B), 4 (N), 3 (D)]\n",
    "\n",
    "\n",
    "# Mask to keep patches 0 and 2 from Image 1 and 1 and 3 from Image 2\n",
    "mask_1 = torch.tensor([0,2])  # Keep patches 0 and 2 from Image 1\n",
    "mask_2 = torch.tensor([1, 1])  # Keep patches 1 and 3 from Image 2\n",
    "\n",
    "masks = [mask_1, mask_2]\n",
    "\n",
    "\n",
    "result = apply_masks(x, masks)\n",
    "print(result)\n",
    "tensor([\n",
    "    [[ 1,  2,  3],\n",
    "         [ 7,  8,  9]],\n",
    "\n",
    "        [[13, 14, 15],\n",
    "         [19, 20, 21]],\n",
    "\n",
    "        [[ 4,  5,  6],\n",
    "         [ 4,  5,  6]],\n",
    "\n",
    "        [[16, 17, 18],\n",
    "         [16, 17, 18]]\n",
    "])\n"
   ]
  },
  {
   "cell_type": "code",
   "execution_count": 19,
   "metadata": {},
   "outputs": [
    {
     "name": "stdout",
     "output_type": "stream",
     "text": [
      "torch.Size([4, 3, 3])\n"
     ]
    }
   ],
   "source": [
    "x = torch.randn(2, 8, 3)\n",
    "masks = [torch.tensor([1, 3, 5]), torch.tensor([0, 2, 6])]\n",
    "\n",
    "# Apply masks\n",
    "result = apply_masks(x, masks)\n",
    "\n",
    "print(result.shape)  # torch.Size([4, 3, 3])"
   ]
  },
  {
   "cell_type": "code",
   "execution_count": 16,
   "metadata": {},
   "outputs": [
    {
     "data": {
      "text/plain": [
       "tensor([[[ 0.3405,  1.0730,  0.8639],\n",
       "         [-0.6915, -0.8233,  2.2888],\n",
       "         [-0.6145, -0.4392,  0.7010],\n",
       "         [-1.0011,  0.4583,  1.0431],\n",
       "         [ 0.3076, -0.8169, -0.8629],\n",
       "         [ 0.5445,  2.0003, -1.6975],\n",
       "         [-1.8074,  0.6449,  1.0224],\n",
       "         [ 0.1282,  1.1422, -0.9853]],\n",
       "\n",
       "        [[ 0.1313, -1.7302,  0.8081],\n",
       "         [-0.1802,  0.7888,  0.5702],\n",
       "         [-1.0691, -0.4204,  0.0851],\n",
       "         [ 1.3423,  1.1664, -0.9405],\n",
       "         [-1.6101, -0.9445,  0.6677],\n",
       "         [ 2.7764,  0.1288, -0.6273],\n",
       "         [-0.0263, -0.6501,  0.2953],\n",
       "         [-0.5329, -0.3462,  0.7117]]])"
      ]
     },
     "execution_count": 16,
     "metadata": {},
     "output_type": "execute_result"
    }
   ],
   "source": [
    "x"
   ]
  },
  {
   "cell_type": "code",
   "execution_count": 17,
   "metadata": {},
   "outputs": [
    {
     "data": {
      "text/plain": [
       "tensor([[[-0.6915, -0.8233,  2.2888],\n",
       "         [-1.0011,  0.4583,  1.0431],\n",
       "         [ 0.5445,  2.0003, -1.6975]],\n",
       "\n",
       "        [[ 0.3405,  1.0730,  0.8639],\n",
       "         [-0.6145, -0.4392,  0.7010],\n",
       "         [-1.8074,  0.6449,  1.0224]]])"
      ]
     },
     "execution_count": 17,
     "metadata": {},
     "output_type": "execute_result"
    }
   ],
   "source": [
    "result"
   ]
  },
  {
   "cell_type": "code",
   "execution_count": 24,
   "metadata": {},
   "outputs": [],
   "source": [
    "a = torch.tensor([[1,2,3],[4,5,6]])"
   ]
  },
  {
   "cell_type": "code",
   "execution_count": 25,
   "metadata": {},
   "outputs": [
    {
     "data": {
      "text/plain": [
       "tensor([[[1, 2, 3],\n",
       "         [4, 5, 6]],\n",
       "\n",
       "        [[1, 2, 3],\n",
       "         [4, 5, 6]],\n",
       "\n",
       "        [[1, 2, 3],\n",
       "         [4, 5, 6]],\n",
       "\n",
       "        [[1, 2, 3],\n",
       "         [4, 5, 6]],\n",
       "\n",
       "        [[1, 2, 3],\n",
       "         [4, 5, 6]]])"
      ]
     },
     "execution_count": 25,
     "metadata": {},
     "output_type": "execute_result"
    }
   ],
   "source": [
    "a.repeat(5,1,1)"
   ]
  },
  {
   "cell_type": "code",
   "execution_count": null,
   "metadata": {},
   "outputs": [],
   "source": []
  }
 ],
 "metadata": {
  "kernelspec": {
   "display_name": ".venv",
   "language": "python",
   "name": "python3"
  },
  "language_info": {
   "codemirror_mode": {
    "name": "ipython",
    "version": 3
   },
   "file_extension": ".py",
   "mimetype": "text/x-python",
   "name": "python",
   "nbconvert_exporter": "python",
   "pygments_lexer": "ipython3",
   "version": "3.12.5"
  }
 },
 "nbformat": 4,
 "nbformat_minor": 2
}
